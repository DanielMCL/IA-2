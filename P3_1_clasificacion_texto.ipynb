{
 "cells": [
  {
   "cell_type": "markdown",
   "metadata": {
    "id": "OUBRwgEu3yu1"
   },
   "source": [
    "# Práctica 2: Procesamiento del Lenguaje Natural\n",
    "\n",
    "__Fecha de entrega: 8 de mayo de 2023__\n",
    "\n",
    "El objetivo de esta práctica es aplicar los conceptos teóricos vistos en clase en el módulo de PLN. La práctica consta de 2 notebooks que se entregarán simultáneamente en la tarea de entrega habilitada en el Campus  Virtual.\n",
    "\n",
    "Lo más importante en esta práctica no es el código Python, sino el análisis de los datos y modelos que construyas y las explicaciones razonadas de cada una de las decisiones que tomes. __No se valorarán trozos de código o gráficas sin ningún tipo de contexto o explicación__.\n",
    "\n",
    "Finalmente, recuerda establecer el parámetro `random_state` en todas las funciones que tomen decisiones aleatorias para que los resultados sean reproducibles (los resultados no varíen entre ejecuciones)."
   ]
  },
  {
   "cell_type": "code",
   "execution_count": 13,
   "metadata": {
    "id": "V3YxCTUW3yu9"
   },
   "outputs": [],
   "source": [
    "RANDOM_STATE = 1234"
   ]
  },
  {
   "cell_type": "markdown",
   "metadata": {
    "id": "pn_YQLVL3yvA"
   },
   "source": [
    "# Apartado 1: Análisis de sentimientos\n"
   ]
  },
  {
   "cell_type": "markdown",
   "metadata": {
    "id": "de-i8w0s3yvC"
   },
   "source": [
    "__Número de grupo: XX__\n",
    "\n",
    "__Nombres de los estudiantes: Gonzalo García Fernández y Daniel María Carreño López"
   ]
  },
  {
   "cell_type": "markdown",
   "metadata": {
    "id": "yeVD_g2D3yvC"
   },
   "source": [
    "## 1) Carga del conjunto de datos\n",
    "\n",
    "El fichero `IMBD_Dataset.csv` contiene opiniones de películas clasificadas en 2 categorías diferentes (positiva/negativa).\n",
    "\n",
    "Este set de datos se creó utilizando el \"IMDB Dataset of 50K Movie Reviews\", el cual contiene 50,000 reseñas de películas con un sentimiento positivo o negativo adjunto a ellas.\n",
    "\n",
    "Muestra un ejemplo de cada clase.\n",
    "\n",
    "Haz un estudio del conjunto de datos. ¿qué palabras aparecen más veces?, ¿tendría sentido normalizar de alguna manera el corpus?\n",
    "\n",
    "Crea una partición de los datos dejando el 80% para entrenamiento y el 20% restante para test usando la función `train_test_split` de sklearn. Comprueba que la distribución de los ejemplos en las clases es la misma en entrenamiento y test. "
   ]
  },
  {
   "cell_type": "code",
   "execution_count": 1,
   "metadata": {
    "colab": {
     "base_uri": "https://localhost:8080/"
    },
    "id": "5YyPy4BDfzGQ",
    "outputId": "d1e7f46e-4864-46ec-e808-c993a47bd14f"
   },
   "outputs": [
    {
     "name": "stdout",
     "output_type": "stream",
     "text": [
      "Mounted at /content/drive\n"
     ]
    }
   ],
   "source": [
    "# acceso a google drive\n",
    "\n",
    "from google.colab import drive\n",
    "drive.mount('/content/drive')"
   ]
  },
  {
   "cell_type": "code",
   "execution_count": 2,
   "metadata": {
    "id": "0csu2B8N3yvE"
   },
   "outputs": [],
   "source": [
    "import pandas as pd\n",
    "import numpy as np\n",
    "import nltk\n",
    "import re\n",
    "import sklearn\n"
   ]
  },
  {
   "cell_type": "code",
   "execution_count": 3,
   "metadata": {
    "colab": {
     "base_uri": "https://localhost:8080/",
     "height": 206
    },
    "id": "kmcEfPgYf1Fk",
    "outputId": "62c19e91-e928-4e09-cb5b-40b4fe21baf9"
   },
   "outputs": [
    {
     "data": {
      "text/html": [
       "\n",
       "  <div id=\"df-cd795f32-39f1-4b47-85f6-f6a5f3caf3d5\">\n",
       "    <div class=\"colab-df-container\">\n",
       "      <div>\n",
       "<style scoped>\n",
       "    .dataframe tbody tr th:only-of-type {\n",
       "        vertical-align: middle;\n",
       "    }\n",
       "\n",
       "    .dataframe tbody tr th {\n",
       "        vertical-align: top;\n",
       "    }\n",
       "\n",
       "    .dataframe thead th {\n",
       "        text-align: right;\n",
       "    }\n",
       "</style>\n",
       "<table border=\"1\" class=\"dataframe\">\n",
       "  <thead>\n",
       "    <tr style=\"text-align: right;\">\n",
       "      <th></th>\n",
       "      <th>review</th>\n",
       "      <th>sentiment</th>\n",
       "    </tr>\n",
       "  </thead>\n",
       "  <tbody>\n",
       "    <tr>\n",
       "      <th>0</th>\n",
       "      <td>One of the other reviewers has mentioned that ...</td>\n",
       "      <td>positive</td>\n",
       "    </tr>\n",
       "    <tr>\n",
       "      <th>1</th>\n",
       "      <td>A wonderful little production. &lt;br /&gt;&lt;br /&gt;The...</td>\n",
       "      <td>positive</td>\n",
       "    </tr>\n",
       "    <tr>\n",
       "      <th>2</th>\n",
       "      <td>I thought this was a wonderful way to spend ti...</td>\n",
       "      <td>positive</td>\n",
       "    </tr>\n",
       "    <tr>\n",
       "      <th>3</th>\n",
       "      <td>Basically there's a family where a little boy ...</td>\n",
       "      <td>negative</td>\n",
       "    </tr>\n",
       "    <tr>\n",
       "      <th>4</th>\n",
       "      <td>Petter Mattei's \"Love in the Time of Money\" is...</td>\n",
       "      <td>positive</td>\n",
       "    </tr>\n",
       "  </tbody>\n",
       "</table>\n",
       "</div>\n",
       "      <button class=\"colab-df-convert\" onclick=\"convertToInteractive('df-cd795f32-39f1-4b47-85f6-f6a5f3caf3d5')\"\n",
       "              title=\"Convert this dataframe to an interactive table.\"\n",
       "              style=\"display:none;\">\n",
       "        \n",
       "  <svg xmlns=\"http://www.w3.org/2000/svg\" height=\"24px\"viewBox=\"0 0 24 24\"\n",
       "       width=\"24px\">\n",
       "    <path d=\"M0 0h24v24H0V0z\" fill=\"none\"/>\n",
       "    <path d=\"M18.56 5.44l.94 2.06.94-2.06 2.06-.94-2.06-.94-.94-2.06-.94 2.06-2.06.94zm-11 1L8.5 8.5l.94-2.06 2.06-.94-2.06-.94L8.5 2.5l-.94 2.06-2.06.94zm10 10l.94 2.06.94-2.06 2.06-.94-2.06-.94-.94-2.06-.94 2.06-2.06.94z\"/><path d=\"M17.41 7.96l-1.37-1.37c-.4-.4-.92-.59-1.43-.59-.52 0-1.04.2-1.43.59L10.3 9.45l-7.72 7.72c-.78.78-.78 2.05 0 2.83L4 21.41c.39.39.9.59 1.41.59.51 0 1.02-.2 1.41-.59l7.78-7.78 2.81-2.81c.8-.78.8-2.07 0-2.86zM5.41 20L4 18.59l7.72-7.72 1.47 1.35L5.41 20z\"/>\n",
       "  </svg>\n",
       "      </button>\n",
       "      \n",
       "  <style>\n",
       "    .colab-df-container {\n",
       "      display:flex;\n",
       "      flex-wrap:wrap;\n",
       "      gap: 12px;\n",
       "    }\n",
       "\n",
       "    .colab-df-convert {\n",
       "      background-color: #E8F0FE;\n",
       "      border: none;\n",
       "      border-radius: 50%;\n",
       "      cursor: pointer;\n",
       "      display: none;\n",
       "      fill: #1967D2;\n",
       "      height: 32px;\n",
       "      padding: 0 0 0 0;\n",
       "      width: 32px;\n",
       "    }\n",
       "\n",
       "    .colab-df-convert:hover {\n",
       "      background-color: #E2EBFA;\n",
       "      box-shadow: 0px 1px 2px rgba(60, 64, 67, 0.3), 0px 1px 3px 1px rgba(60, 64, 67, 0.15);\n",
       "      fill: #174EA6;\n",
       "    }\n",
       "\n",
       "    [theme=dark] .colab-df-convert {\n",
       "      background-color: #3B4455;\n",
       "      fill: #D2E3FC;\n",
       "    }\n",
       "\n",
       "    [theme=dark] .colab-df-convert:hover {\n",
       "      background-color: #434B5C;\n",
       "      box-shadow: 0px 1px 3px 1px rgba(0, 0, 0, 0.15);\n",
       "      filter: drop-shadow(0px 1px 2px rgba(0, 0, 0, 0.3));\n",
       "      fill: #FFFFFF;\n",
       "    }\n",
       "  </style>\n",
       "\n",
       "      <script>\n",
       "        const buttonEl =\n",
       "          document.querySelector('#df-cd795f32-39f1-4b47-85f6-f6a5f3caf3d5 button.colab-df-convert');\n",
       "        buttonEl.style.display =\n",
       "          google.colab.kernel.accessAllowed ? 'block' : 'none';\n",
       "\n",
       "        async function convertToInteractive(key) {\n",
       "          const element = document.querySelector('#df-cd795f32-39f1-4b47-85f6-f6a5f3caf3d5');\n",
       "          const dataTable =\n",
       "            await google.colab.kernel.invokeFunction('convertToInteractive',\n",
       "                                                     [key], {});\n",
       "          if (!dataTable) return;\n",
       "\n",
       "          const docLinkHtml = 'Like what you see? Visit the ' +\n",
       "            '<a target=\"_blank\" href=https://colab.research.google.com/notebooks/data_table.ipynb>data table notebook</a>'\n",
       "            + ' to learn more about interactive tables.';\n",
       "          element.innerHTML = '';\n",
       "          dataTable['output_type'] = 'display_data';\n",
       "          await google.colab.output.renderOutput(dataTable, element);\n",
       "          const docLink = document.createElement('div');\n",
       "          docLink.innerHTML = docLinkHtml;\n",
       "          element.appendChild(docLink);\n",
       "        }\n",
       "      </script>\n",
       "    </div>\n",
       "  </div>\n",
       "  "
      ],
      "text/plain": [
       "                                              review sentiment\n",
       "0  One of the other reviewers has mentioned that ...  positive\n",
       "1  A wonderful little production. <br /><br />The...  positive\n",
       "2  I thought this was a wonderful way to spend ti...  positive\n",
       "3  Basically there's a family where a little boy ...  negative\n",
       "4  Petter Mattei's \"Love in the Time of Money\" is...  positive"
      ]
     },
     "execution_count": 3,
     "metadata": {},
     "output_type": "execute_result"
    }
   ],
   "source": [
    "imbd_file = '/content/drive/MyDrive/IMDB_Dataset.csv'\n",
    "\n",
    "df=pd.read_csv(imbd_file)\n",
    "df.head()"
   ]
  },
  {
   "cell_type": "code",
   "execution_count": 4,
   "metadata": {
    "colab": {
     "base_uri": "https://localhost:8080/"
    },
    "id": "ydN4zilcaXhP",
    "outputId": "60f071d2-6119-410c-d6c8-643c6b5c2523"
   },
   "outputs": [
    {
     "data": {
      "text/plain": [
       "positive    25000\n",
       "negative    25000\n",
       "Name: sentiment, dtype: int64"
      ]
     },
     "execution_count": 4,
     "metadata": {},
     "output_type": "execute_result"
    }
   ],
   "source": [
    "df['sentiment'].value_counts()"
   ]
  },
  {
   "cell_type": "markdown",
   "metadata": {
    "id": "uPPAH1d1aeTn"
   },
   "source": [
    "Vemos con el output del anterior que nuestra base de datos esta perfectamente equilibrada y tiene 50000 ejemplos(250000 negativos y 25000 positivos)."
   ]
  },
  {
   "cell_type": "code",
   "execution_count": 5,
   "metadata": {
    "colab": {
     "base_uri": "https://localhost:8080/"
    },
    "id": "npWL7CqaS1Kc",
    "outputId": "f9cdf9b2-d7dd-468c-ae28-4af0a703d05f"
   },
   "outputs": [
    {
     "name": "stdout",
     "output_type": "stream",
     "text": [
      "Ejemplo positivo:\n",
      "0    One of the other reviewers has mentioned that ...\n",
      "Name: review, dtype: object\n",
      "Ejemplo negativo:\n",
      "3    Basically there's a family where a little boy ...\n",
      "Name: review, dtype: object\n"
     ]
    }
   ],
   "source": [
    "\n",
    "corpus =np.array(df['review'])\n",
    "df2 = df[df['sentiment'] == 'positive']\n",
    "print('Ejemplo positivo:')\n",
    "print(df2.head(1)['review'])\n",
    "\n",
    "df3 = df[df['sentiment'] == 'negative']\n",
    "print('Ejemplo negativo:')\n",
    "print(df3.head(1)['review'])\n"
   ]
  },
  {
   "cell_type": "code",
   "execution_count": 6,
   "metadata": {
    "colab": {
     "base_uri": "https://localhost:8080/"
    },
    "id": "EcqNWMJsWd9D",
    "outputId": "6d434c67-e414-4dfe-d2a7-eb3299de524f"
   },
   "outputs": [
    {
     "data": {
      "text/plain": [
       "array([[ 6,  7, 16],\n",
       "       [ 7,  5, 16],\n",
       "       [ 4,  4,  8],\n",
       "       ...,\n",
       "       [ 6, 11, 21],\n",
       "       [ 8,  7, 13],\n",
       "       [ 2,  2, 12]])"
      ]
     },
     "execution_count": 6,
     "metadata": {},
     "output_type": "execute_result"
    }
   ],
   "source": [
    "from sklearn.feature_extraction.text import CountVectorizer\n",
    "\n",
    "corpus =np.array(df['review'])\n",
    "cv = CountVectorizer(max_features = 3)\n",
    "cv_matrix = cv.fit_transform(corpus)\n",
    "cv_matrix = cv_matrix.toarray()\n",
    "cv_matrix"
   ]
  },
  {
   "cell_type": "code",
   "execution_count": 7,
   "metadata": {
    "colab": {
     "base_uri": "https://localhost:8080/",
     "height": 423
    },
    "id": "M77Ey3Etgdmi",
    "outputId": "03e8e35a-0ec2-42c1-c7c8-0011facec651"
   },
   "outputs": [
    {
     "data": {
      "text/html": [
       "\n",
       "  <div id=\"df-34dc62a1-20ab-479f-ae7d-e6d9396603bd\">\n",
       "    <div class=\"colab-df-container\">\n",
       "      <div>\n",
       "<style scoped>\n",
       "    .dataframe tbody tr th:only-of-type {\n",
       "        vertical-align: middle;\n",
       "    }\n",
       "\n",
       "    .dataframe tbody tr th {\n",
       "        vertical-align: top;\n",
       "    }\n",
       "\n",
       "    .dataframe thead th {\n",
       "        text-align: right;\n",
       "    }\n",
       "</style>\n",
       "<table border=\"1\" class=\"dataframe\">\n",
       "  <thead>\n",
       "    <tr style=\"text-align: right;\">\n",
       "      <th></th>\n",
       "      <th>and</th>\n",
       "      <th>of</th>\n",
       "      <th>the</th>\n",
       "    </tr>\n",
       "  </thead>\n",
       "  <tbody>\n",
       "    <tr>\n",
       "      <th>0</th>\n",
       "      <td>6</td>\n",
       "      <td>7</td>\n",
       "      <td>16</td>\n",
       "    </tr>\n",
       "    <tr>\n",
       "      <th>1</th>\n",
       "      <td>7</td>\n",
       "      <td>5</td>\n",
       "      <td>16</td>\n",
       "    </tr>\n",
       "    <tr>\n",
       "      <th>2</th>\n",
       "      <td>4</td>\n",
       "      <td>4</td>\n",
       "      <td>8</td>\n",
       "    </tr>\n",
       "    <tr>\n",
       "      <th>3</th>\n",
       "      <td>4</td>\n",
       "      <td>2</td>\n",
       "      <td>6</td>\n",
       "    </tr>\n",
       "    <tr>\n",
       "      <th>4</th>\n",
       "      <td>5</td>\n",
       "      <td>6</td>\n",
       "      <td>20</td>\n",
       "    </tr>\n",
       "    <tr>\n",
       "      <th>...</th>\n",
       "      <td>...</td>\n",
       "      <td>...</td>\n",
       "      <td>...</td>\n",
       "    </tr>\n",
       "    <tr>\n",
       "      <th>49995</th>\n",
       "      <td>7</td>\n",
       "      <td>2</td>\n",
       "      <td>5</td>\n",
       "    </tr>\n",
       "    <tr>\n",
       "      <th>49996</th>\n",
       "      <td>2</td>\n",
       "      <td>4</td>\n",
       "      <td>9</td>\n",
       "    </tr>\n",
       "    <tr>\n",
       "      <th>49997</th>\n",
       "      <td>6</td>\n",
       "      <td>11</td>\n",
       "      <td>21</td>\n",
       "    </tr>\n",
       "    <tr>\n",
       "      <th>49998</th>\n",
       "      <td>8</td>\n",
       "      <td>7</td>\n",
       "      <td>13</td>\n",
       "    </tr>\n",
       "    <tr>\n",
       "      <th>49999</th>\n",
       "      <td>2</td>\n",
       "      <td>2</td>\n",
       "      <td>12</td>\n",
       "    </tr>\n",
       "  </tbody>\n",
       "</table>\n",
       "<p>50000 rows × 3 columns</p>\n",
       "</div>\n",
       "      <button class=\"colab-df-convert\" onclick=\"convertToInteractive('df-34dc62a1-20ab-479f-ae7d-e6d9396603bd')\"\n",
       "              title=\"Convert this dataframe to an interactive table.\"\n",
       "              style=\"display:none;\">\n",
       "        \n",
       "  <svg xmlns=\"http://www.w3.org/2000/svg\" height=\"24px\"viewBox=\"0 0 24 24\"\n",
       "       width=\"24px\">\n",
       "    <path d=\"M0 0h24v24H0V0z\" fill=\"none\"/>\n",
       "    <path d=\"M18.56 5.44l.94 2.06.94-2.06 2.06-.94-2.06-.94-.94-2.06-.94 2.06-2.06.94zm-11 1L8.5 8.5l.94-2.06 2.06-.94-2.06-.94L8.5 2.5l-.94 2.06-2.06.94zm10 10l.94 2.06.94-2.06 2.06-.94-2.06-.94-.94-2.06-.94 2.06-2.06.94z\"/><path d=\"M17.41 7.96l-1.37-1.37c-.4-.4-.92-.59-1.43-.59-.52 0-1.04.2-1.43.59L10.3 9.45l-7.72 7.72c-.78.78-.78 2.05 0 2.83L4 21.41c.39.39.9.59 1.41.59.51 0 1.02-.2 1.41-.59l7.78-7.78 2.81-2.81c.8-.78.8-2.07 0-2.86zM5.41 20L4 18.59l7.72-7.72 1.47 1.35L5.41 20z\"/>\n",
       "  </svg>\n",
       "      </button>\n",
       "      \n",
       "  <style>\n",
       "    .colab-df-container {\n",
       "      display:flex;\n",
       "      flex-wrap:wrap;\n",
       "      gap: 12px;\n",
       "    }\n",
       "\n",
       "    .colab-df-convert {\n",
       "      background-color: #E8F0FE;\n",
       "      border: none;\n",
       "      border-radius: 50%;\n",
       "      cursor: pointer;\n",
       "      display: none;\n",
       "      fill: #1967D2;\n",
       "      height: 32px;\n",
       "      padding: 0 0 0 0;\n",
       "      width: 32px;\n",
       "    }\n",
       "\n",
       "    .colab-df-convert:hover {\n",
       "      background-color: #E2EBFA;\n",
       "      box-shadow: 0px 1px 2px rgba(60, 64, 67, 0.3), 0px 1px 3px 1px rgba(60, 64, 67, 0.15);\n",
       "      fill: #174EA6;\n",
       "    }\n",
       "\n",
       "    [theme=dark] .colab-df-convert {\n",
       "      background-color: #3B4455;\n",
       "      fill: #D2E3FC;\n",
       "    }\n",
       "\n",
       "    [theme=dark] .colab-df-convert:hover {\n",
       "      background-color: #434B5C;\n",
       "      box-shadow: 0px 1px 3px 1px rgba(0, 0, 0, 0.15);\n",
       "      filter: drop-shadow(0px 1px 2px rgba(0, 0, 0, 0.3));\n",
       "      fill: #FFFFFF;\n",
       "    }\n",
       "  </style>\n",
       "\n",
       "      <script>\n",
       "        const buttonEl =\n",
       "          document.querySelector('#df-34dc62a1-20ab-479f-ae7d-e6d9396603bd button.colab-df-convert');\n",
       "        buttonEl.style.display =\n",
       "          google.colab.kernel.accessAllowed ? 'block' : 'none';\n",
       "\n",
       "        async function convertToInteractive(key) {\n",
       "          const element = document.querySelector('#df-34dc62a1-20ab-479f-ae7d-e6d9396603bd');\n",
       "          const dataTable =\n",
       "            await google.colab.kernel.invokeFunction('convertToInteractive',\n",
       "                                                     [key], {});\n",
       "          if (!dataTable) return;\n",
       "\n",
       "          const docLinkHtml = 'Like what you see? Visit the ' +\n",
       "            '<a target=\"_blank\" href=https://colab.research.google.com/notebooks/data_table.ipynb>data table notebook</a>'\n",
       "            + ' to learn more about interactive tables.';\n",
       "          element.innerHTML = '';\n",
       "          dataTable['output_type'] = 'display_data';\n",
       "          await google.colab.output.renderOutput(dataTable, element);\n",
       "          const docLink = document.createElement('div');\n",
       "          docLink.innerHTML = docLinkHtml;\n",
       "          element.appendChild(docLink);\n",
       "        }\n",
       "      </script>\n",
       "    </div>\n",
       "  </div>\n",
       "  "
      ],
      "text/plain": [
       "       and  of  the\n",
       "0        6   7   16\n",
       "1        7   5   16\n",
       "2        4   4    8\n",
       "3        4   2    6\n",
       "4        5   6   20\n",
       "...    ...  ..  ...\n",
       "49995    7   2    5\n",
       "49996    2   4    9\n",
       "49997    6  11   21\n",
       "49998    8   7   13\n",
       "49999    2   2   12\n",
       "\n",
       "[50000 rows x 3 columns]"
      ]
     },
     "execution_count": 7,
     "metadata": {},
     "output_type": "execute_result"
    }
   ],
   "source": [
    "# get all unique words in the corpus\n",
    "vocab = cv.get_feature_names_out()\n",
    "# show document feature vectors\n",
    "pd.DataFrame(cv_matrix, columns=vocab)"
   ]
  },
  {
   "cell_type": "markdown",
   "metadata": {
    "id": "zixUcIHaiLdD"
   },
   "source": [
    "Como podemos ver las palabras más tipicas del texto sin normalizar son las más utilizadas en inglés lo que no nos da ninguna información. Por lo tanto, normalizaremos el texto para poder ver realmente cuales son las palabras más utilizadas relevantes."
   ]
  },
  {
   "cell_type": "code",
   "execution_count": 8,
   "metadata": {
    "colab": {
     "base_uri": "https://localhost:8080/"
    },
    "id": "Vsly08jaYRXM",
    "outputId": "9baf6921-dee5-4ff4-dd9d-25c4646cb936"
   },
   "outputs": [
    {
     "name": "stderr",
     "output_type": "stream",
     "text": [
      "[nltk_data] Downloading package stopwords to /root/nltk_data...\n",
      "[nltk_data]   Unzipping corpora/stopwords.zip.\n"
     ]
    }
   ],
   "source": [
    "wpt = nltk.WordPunctTokenizer()\n",
    "nltk.download('stopwords')\n",
    "stop_words = nltk.corpus.stopwords.words('english')\n",
    "\n",
    "def normalize_document(doc):\n",
    "    # lower case and remove special characters\\whitespaces\n",
    "    doc = re.sub(r'[^a-zA-Z\\s]', '', doc, re.I|re.A)\n",
    "    doc = re.sub('br','',doc)\n",
    "    doc = doc.lower()\n",
    "    doc = doc.strip()\n",
    "    # tokenize document\n",
    "    tokens = wpt.tokenize(doc)\n",
    "    # filter stopwords out of document\n",
    "    filtered_tokens = [token for token in tokens if token not in stop_words]\n",
    "    # re-create document from filtered tokens\n",
    "    doc = ' '.join(filtered_tokens)\n",
    "    return doc\n",
    "\n",
    "normalize_corpus = np.vectorize(normalize_document)"
   ]
  },
  {
   "cell_type": "code",
   "execution_count": 9,
   "metadata": {
    "id": "cCZNOGJsalUT"
   },
   "outputs": [],
   "source": [
    "norm_corpus = normalize_corpus(corpus)"
   ]
  },
  {
   "cell_type": "code",
   "execution_count": 10,
   "metadata": {
    "colab": {
     "base_uri": "https://localhost:8080/"
    },
    "id": "0kRTHqDNitWL",
    "outputId": "f520c7ca-0918-4339-c814-a776b4b8ddf3"
   },
   "outputs": [
    {
     "data": {
      "text/plain": [
       "array([[0, 0, 1],\n",
       "       [0, 0, 1],\n",
       "       [0, 0, 1],\n",
       "       ...,\n",
       "       [0, 0, 0],\n",
       "       [0, 0, 4],\n",
       "       [0, 7, 1]])"
      ]
     },
     "execution_count": 10,
     "metadata": {},
     "output_type": "execute_result"
    }
   ],
   "source": [
    "from sklearn.feature_extraction.text import CountVectorizer\n",
    "\n",
    "cv = CountVectorizer(max_features = 3)\n",
    "cv_matrix = cv.fit_transform(norm_corpus)\n",
    "cv_matrix = cv_matrix.toarray()\n",
    "cv_matrix"
   ]
  },
  {
   "cell_type": "code",
   "execution_count": 11,
   "metadata": {
    "colab": {
     "base_uri": "https://localhost:8080/",
     "height": 423
    },
    "id": "Yyi7maAwivOl",
    "outputId": "81ce4288-b961-48f8-fd57-e767040d2232"
   },
   "outputs": [
    {
     "data": {
      "text/html": [
       "\n",
       "  <div id=\"df-7c88cedc-d7e8-4aff-8970-2d2f5f3ddecb\">\n",
       "    <div class=\"colab-df-container\">\n",
       "      <div>\n",
       "<style scoped>\n",
       "    .dataframe tbody tr th:only-of-type {\n",
       "        vertical-align: middle;\n",
       "    }\n",
       "\n",
       "    .dataframe tbody tr th {\n",
       "        vertical-align: top;\n",
       "    }\n",
       "\n",
       "    .dataframe thead th {\n",
       "        text-align: right;\n",
       "    }\n",
       "</style>\n",
       "<table border=\"1\" class=\"dataframe\">\n",
       "  <thead>\n",
       "    <tr style=\"text-align: right;\">\n",
       "      <th></th>\n",
       "      <th>film</th>\n",
       "      <th>movie</th>\n",
       "      <th>one</th>\n",
       "    </tr>\n",
       "  </thead>\n",
       "  <tbody>\n",
       "    <tr>\n",
       "      <th>0</th>\n",
       "      <td>0</td>\n",
       "      <td>0</td>\n",
       "      <td>1</td>\n",
       "    </tr>\n",
       "    <tr>\n",
       "      <th>1</th>\n",
       "      <td>0</td>\n",
       "      <td>0</td>\n",
       "      <td>1</td>\n",
       "    </tr>\n",
       "    <tr>\n",
       "      <th>2</th>\n",
       "      <td>0</td>\n",
       "      <td>0</td>\n",
       "      <td>1</td>\n",
       "    </tr>\n",
       "    <tr>\n",
       "      <th>3</th>\n",
       "      <td>2</td>\n",
       "      <td>3</td>\n",
       "      <td>0</td>\n",
       "    </tr>\n",
       "    <tr>\n",
       "      <th>4</th>\n",
       "      <td>2</td>\n",
       "      <td>1</td>\n",
       "      <td>6</td>\n",
       "    </tr>\n",
       "    <tr>\n",
       "      <th>...</th>\n",
       "      <td>...</td>\n",
       "      <td>...</td>\n",
       "      <td>...</td>\n",
       "    </tr>\n",
       "    <tr>\n",
       "      <th>49995</th>\n",
       "      <td>0</td>\n",
       "      <td>5</td>\n",
       "      <td>1</td>\n",
       "    </tr>\n",
       "    <tr>\n",
       "      <th>49996</th>\n",
       "      <td>0</td>\n",
       "      <td>0</td>\n",
       "      <td>0</td>\n",
       "    </tr>\n",
       "    <tr>\n",
       "      <th>49997</th>\n",
       "      <td>0</td>\n",
       "      <td>0</td>\n",
       "      <td>0</td>\n",
       "    </tr>\n",
       "    <tr>\n",
       "      <th>49998</th>\n",
       "      <td>0</td>\n",
       "      <td>0</td>\n",
       "      <td>4</td>\n",
       "    </tr>\n",
       "    <tr>\n",
       "      <th>49999</th>\n",
       "      <td>0</td>\n",
       "      <td>7</td>\n",
       "      <td>1</td>\n",
       "    </tr>\n",
       "  </tbody>\n",
       "</table>\n",
       "<p>50000 rows × 3 columns</p>\n",
       "</div>\n",
       "      <button class=\"colab-df-convert\" onclick=\"convertToInteractive('df-7c88cedc-d7e8-4aff-8970-2d2f5f3ddecb')\"\n",
       "              title=\"Convert this dataframe to an interactive table.\"\n",
       "              style=\"display:none;\">\n",
       "        \n",
       "  <svg xmlns=\"http://www.w3.org/2000/svg\" height=\"24px\"viewBox=\"0 0 24 24\"\n",
       "       width=\"24px\">\n",
       "    <path d=\"M0 0h24v24H0V0z\" fill=\"none\"/>\n",
       "    <path d=\"M18.56 5.44l.94 2.06.94-2.06 2.06-.94-2.06-.94-.94-2.06-.94 2.06-2.06.94zm-11 1L8.5 8.5l.94-2.06 2.06-.94-2.06-.94L8.5 2.5l-.94 2.06-2.06.94zm10 10l.94 2.06.94-2.06 2.06-.94-2.06-.94-.94-2.06-.94 2.06-2.06.94z\"/><path d=\"M17.41 7.96l-1.37-1.37c-.4-.4-.92-.59-1.43-.59-.52 0-1.04.2-1.43.59L10.3 9.45l-7.72 7.72c-.78.78-.78 2.05 0 2.83L4 21.41c.39.39.9.59 1.41.59.51 0 1.02-.2 1.41-.59l7.78-7.78 2.81-2.81c.8-.78.8-2.07 0-2.86zM5.41 20L4 18.59l7.72-7.72 1.47 1.35L5.41 20z\"/>\n",
       "  </svg>\n",
       "      </button>\n",
       "      \n",
       "  <style>\n",
       "    .colab-df-container {\n",
       "      display:flex;\n",
       "      flex-wrap:wrap;\n",
       "      gap: 12px;\n",
       "    }\n",
       "\n",
       "    .colab-df-convert {\n",
       "      background-color: #E8F0FE;\n",
       "      border: none;\n",
       "      border-radius: 50%;\n",
       "      cursor: pointer;\n",
       "      display: none;\n",
       "      fill: #1967D2;\n",
       "      height: 32px;\n",
       "      padding: 0 0 0 0;\n",
       "      width: 32px;\n",
       "    }\n",
       "\n",
       "    .colab-df-convert:hover {\n",
       "      background-color: #E2EBFA;\n",
       "      box-shadow: 0px 1px 2px rgba(60, 64, 67, 0.3), 0px 1px 3px 1px rgba(60, 64, 67, 0.15);\n",
       "      fill: #174EA6;\n",
       "    }\n",
       "\n",
       "    [theme=dark] .colab-df-convert {\n",
       "      background-color: #3B4455;\n",
       "      fill: #D2E3FC;\n",
       "    }\n",
       "\n",
       "    [theme=dark] .colab-df-convert:hover {\n",
       "      background-color: #434B5C;\n",
       "      box-shadow: 0px 1px 3px 1px rgba(0, 0, 0, 0.15);\n",
       "      filter: drop-shadow(0px 1px 2px rgba(0, 0, 0, 0.3));\n",
       "      fill: #FFFFFF;\n",
       "    }\n",
       "  </style>\n",
       "\n",
       "      <script>\n",
       "        const buttonEl =\n",
       "          document.querySelector('#df-7c88cedc-d7e8-4aff-8970-2d2f5f3ddecb button.colab-df-convert');\n",
       "        buttonEl.style.display =\n",
       "          google.colab.kernel.accessAllowed ? 'block' : 'none';\n",
       "\n",
       "        async function convertToInteractive(key) {\n",
       "          const element = document.querySelector('#df-7c88cedc-d7e8-4aff-8970-2d2f5f3ddecb');\n",
       "          const dataTable =\n",
       "            await google.colab.kernel.invokeFunction('convertToInteractive',\n",
       "                                                     [key], {});\n",
       "          if (!dataTable) return;\n",
       "\n",
       "          const docLinkHtml = 'Like what you see? Visit the ' +\n",
       "            '<a target=\"_blank\" href=https://colab.research.google.com/notebooks/data_table.ipynb>data table notebook</a>'\n",
       "            + ' to learn more about interactive tables.';\n",
       "          element.innerHTML = '';\n",
       "          dataTable['output_type'] = 'display_data';\n",
       "          await google.colab.output.renderOutput(dataTable, element);\n",
       "          const docLink = document.createElement('div');\n",
       "          docLink.innerHTML = docLinkHtml;\n",
       "          element.appendChild(docLink);\n",
       "        }\n",
       "      </script>\n",
       "    </div>\n",
       "  </div>\n",
       "  "
      ],
      "text/plain": [
       "       film  movie  one\n",
       "0         0      0    1\n",
       "1         0      0    1\n",
       "2         0      0    1\n",
       "3         2      3    0\n",
       "4         2      1    6\n",
       "...     ...    ...  ...\n",
       "49995     0      5    1\n",
       "49996     0      0    0\n",
       "49997     0      0    0\n",
       "49998     0      0    4\n",
       "49999     0      7    1\n",
       "\n",
       "[50000 rows x 3 columns]"
      ]
     },
     "execution_count": 11,
     "metadata": {},
     "output_type": "execute_result"
    }
   ],
   "source": [
    "# get all unique words in the corpus\n",
    "vocab = cv.get_feature_names_out()\n",
    "# show document feature vectors\n",
    "pd.DataFrame(cv_matrix, columns=vocab)"
   ]
  },
  {
   "cell_type": "markdown",
   "metadata": {
    "id": "6ODgcO7ljdtG"
   },
   "source": [
    "Ahora ya podemos ver que nuestro dataset sera referente a peliculas porque las palabras más frecuentes son \"movie\" y \"film\"."
   ]
  },
  {
   "cell_type": "code",
   "execution_count": 14,
   "metadata": {
    "colab": {
     "base_uri": "https://localhost:8080/"
    },
    "id": "s-QYTIVa-GiL",
    "outputId": "53bba441-60f9-4ec1-9e4d-38cdf30950bf"
   },
   "outputs": [
    {
     "data": {
      "text/plain": [
       "negative    20000\n",
       "positive    20000\n",
       "Name: sentiment, dtype: int64"
      ]
     },
     "execution_count": 14,
     "metadata": {},
     "output_type": "execute_result"
    }
   ],
   "source": [
    "from sklearn.model_selection import train_test_split \n",
    "review_train,review_test,sentiment_train,sentiment_test = train_test_split(df['review'],df['sentiment'],test_size= 0.20,stratify=df['sentiment'],random_state = RANDOM_STATE)#usamos la funcion train_test_split de sklear con un 20% de ejemplos para el test.\n",
    "sentiment_train.value_counts()#contamos el numero de valoraciones positivas y negativas que hay en el train y vemos que son iguales\n",
    "\n"
   ]
  },
  {
   "cell_type": "code",
   "execution_count": 15,
   "metadata": {
    "colab": {
     "base_uri": "https://localhost:8080/"
    },
    "id": "BV90ccByaL7_",
    "outputId": "f3e01f4c-05b8-460e-a91b-669b9b8f0e23"
   },
   "outputs": [
    {
     "data": {
      "text/plain": [
       "negative    5000\n",
       "positive    5000\n",
       "Name: sentiment, dtype: int64"
      ]
     },
     "execution_count": 15,
     "metadata": {},
     "output_type": "execute_result"
    }
   ],
   "source": [
    "sentiment_test.value_counts() #contamos el numero de valoraciones positivas y negativas que hay en el test y vemos que son iguales."
   ]
  },
  {
   "cell_type": "markdown",
   "metadata": {
    "id": "Zuz_eSElaxg_"
   },
   "source": [
    "Despues de realizar esto vemos que de los 50000 ejemplos nos ha cogido 40000 para el entrenamiento y 10000 para el test. Como podemos apreciar la distribucion de las clases está muy equilibrada gracias al parámetro añadido startify\n"
   ]
  },
  {
   "cell_type": "markdown",
   "metadata": {
    "id": "r4rXv3xX3yvG"
   },
   "source": [
    "## 2) Estudio del efecto de distintas representaciones y distintos algoritmos para resolver la tarea\n",
    "\n",
    "Construye distintas representaciones vectoriales basadas en lo contado en las clases de teoría (bolsas de palabras con 2 configuraciones distintas significativas) y utilízalas con 2 de los algoritmos estudiados (árboles de decisión y naive bayes)\n",
    "\n",
    "Para una única configuración, muestra algún mensaje tanto en su formato de texto original como en la versión vectorizada. ¿Qué palabras se han eliminado y por qué?\n"
   ]
  },
  {
   "cell_type": "code",
   "execution_count": 16,
   "metadata": {
    "id": "bGaR1XvgjdKy"
   },
   "outputs": [],
   "source": [
    "#Creamos la instancia de counvectorizer para convertir en un vector el texto\n",
    "vector = CountVectorizer(stop_words='english')\n",
    "#Tomamos el set de entranamiento con los datos y lo transformamos en una matriz de palabras\n",
    "review_train_vector=vector.fit_transform(review_train)"
   ]
  },
  {
   "cell_type": "code",
   "execution_count": 17,
   "metadata": {
    "colab": {
     "base_uri": "https://localhost:8080/"
    },
    "id": "OVExRRmtME2h",
    "outputId": "24d2321b-1747-4d7f-8e40-052331ffe941"
   },
   "outputs": [
    {
     "name": "stdout",
     "output_type": "stream",
     "text": [
      "92671\n"
     ]
    }
   ],
   "source": [
    "#Sacamos el número de palabras diferentes que hay en el texto de entrenamiento e imprimimos el número que hay \n",
    "feature_names_review = vector.get_feature_names_out()\n",
    "\n",
    "print(len(feature_names_review))"
   ]
  },
  {
   "cell_type": "code",
   "execution_count": 18,
   "metadata": {
    "colab": {
     "base_uri": "https://localhost:8080/"
    },
    "id": "6WLFEg9B6Uu9",
    "outputId": "bdeac3eb-534f-4494-df07-f125a8554906"
   },
   "outputs": [
    {
     "name": "stdout",
     "output_type": "stream",
     "text": [
      "['00' '000' '00000000000' '0000000000001' '00000001' '00001' '00015'\n",
      " '000s' '001' '003830' '006' '0069' '007' '0079' '007s' '0080' '0083'\n",
      " '009' '0093638' '00am' '00o' '00pm' '00s' '01' '0126' '0148' '02'\n",
      " '020410' '0230' '029' '03' '04' '041' '044' '05' '050' '05nomactr' '06'\n",
      " '0615' '06th' '07' '07b' '08' '087' '08th' '09' '0and' '0f' '0ne' '0r'\n",
      " '0s' '0tt' '10' '100' '1000' '10000' '1000000' '10000000000'\n",
      " '10000000000000' '10000th' '1000lb' '1000s' '1000th' '1001' '1004' '100b'\n",
      " '100bt' '100ft' '100ibs' '100k' '100m' '100miles' '100min' '100mins'\n",
      " '100mph' '100s' '100th' '100times' '100x' '101' '101st' '102' '102nd'\n",
      " '103' '104' '1040s' '105' '1050' '105lbs' '106' '106min' '107' '108'\n",
      " '1080p' '109' '10_' '10am' '10ft' '10ish' '10k' '10lines' '10min'\n",
      " '10mins' '10minutes' '10p' '10pm' '10s' '10star' '10th' '10x' '10yo'\n",
      " '10yr' '10yrs' '11' '110' '1100' '11001001' '111' '112' '113' '1138'\n",
      " '113min' '113minutes' '114' '1146' '115' '116' '116minutes' '117' '11706'\n",
      " '118' '119' '11am' '11f' '11th' '11yr' '12' '120' '1200' '1201' '1202'\n",
      " '120kmph' '121' '123' '12383499143743701' '1242' '1249' '125' '125m'\n",
      " '127']\n",
      "['zooey' 'zoolander' 'zoological' 'zoologist' 'zoologists' 'zoology'\n",
      " 'zoom' 'zoomed' 'zooming' 'zooms' 'zoot' 'zor' 'zora' 'zorak' 'zorba'\n",
      " 'zord' 'zords' 'zorie' 'zorina' 'zorkin' 'zorn' 'zorrilla' 'zorro'\n",
      " 'zosch' 'zosh' 'zotoh' 'zouganelis' 'zounds' 'zouzou' 'zow' 'zowee'\n",
      " 'zozo' 'zoé' 'zp' 'zschering' 'zsigmond' 'zsrr' 'zsrs' 'zu' 'zubeidaa'\n",
      " 'zuber' 'zucchini' 'zucco' 'zuccon' 'zucher' 'zucker' 'zuckerman'\n",
      " 'zuckers' 'zuckert' 'zudina' 'zues' 'zuf' 'zuger' 'zugsmith' 'zugurt'\n",
      " 'zukor' 'zukovic' 'zula' 'zuleika' 'zuleikha' 'zuleta' 'zulu' 'zulus'\n",
      " 'zumhofe' 'zuni' 'zuniga' 'zunz' 'zuotian' 'zurer' 'zurich' 'zurlini'\n",
      " 'zurn' 'zuucka' 'zuzz' 'zvezda' 'zvonimir' 'zvyagvatsev' 'zwart'\n",
      " 'zwartboek' 'zweite' 'zwick' 'zx81' 'zy' 'zyada' 'zyuranger' 'zz' 'zzzz'\n",
      " 'zzzzip' 'zzzzz' 'zzzzzzzz' 'zzzzzzzzz' 'zzzzzzzzzzzz' 'zzzzzzzzzzzzz'\n",
      " 'zzzzzzzzzzzzzzzzzz' 'zzzzzzzzzzzzzzzzzzzzzzzzzzzzzzz'\n",
      " 'zzzzzzzzzzzzzzzzzzzzzzzzzzzzzzzzzzzzzzzzz'\n",
      " 'zzzzzzzzzzzzzzzzzzzzzzzzzzzzzzzzzzzzzzzzzzzz' 'zázvorková' 'zé' 'zübert'\n",
      " 'ªsen' 'ànd' 'álex' 'ánd' 'ángela' 'âge' 'âme' 'är' 'ääliöt' 'äänekoski'\n",
      " 'åge' 'åmål' 'æbler' 'æon' 'çetin' 'écoffey' 'écran' 'édith' 'élan'\n",
      " 'éloge' 'émigré' 'émigrés' 'était' 'état' 'étc' 'étoile' 'être' 'êxtase'\n",
      " 'ís' 'île' 'ïn' 'ïts' 'óli' 'önsjön' 'örnek' 'østbye' 'úber' 'über'\n",
      " 'übermensch' 'übermenschlich' 'ünel' 'ünfaithful' 'üvegtigris' 'üzümcü'\n",
      " 'ýs' 'þorleifsson' 'þór' 'żmijewski' 'יגאל' 'כרמון']\n"
     ]
    }
   ],
   "source": [
    "#imprimimos las primeras y las ultimas 150 palabras\n",
    "print(feature_names_review[:150])\n",
    "print(feature_names_review[-150:])\n"
   ]
  },
  {
   "cell_type": "markdown",
   "metadata": {
    "id": "kWKrnaUnqXfY"
   },
   "source": [
    "Vemos que hay muchisimos terminos que son alfanuméricos entonces deberiamos restringirlo más para ello usaremos algo mejor que el countvectorier que sera el TF-IDFTransformer."
   ]
  },
  {
   "cell_type": "code",
   "execution_count": 19,
   "metadata": {
    "colab": {
     "base_uri": "https://localhost:8080/"
    },
    "id": "AnK6_1XUpC4q",
    "outputId": "99f9070c-3dab-4249-d46a-0ebe8cb90124"
   },
   "outputs": [
    {
     "name": "stdout",
     "output_type": "stream",
     "text": [
      "  (0, 10868)\t6\n",
      "  (0, 30331)\t2\n",
      "  (0, 62643)\t1\n",
      "  (0, 44175)\t1\n",
      "  (0, 24244)\t1\n",
      "  (0, 48006)\t4\n",
      "  (0, 53323)\t1\n",
      "  (0, 30388)\t1\n",
      "  (0, 43301)\t2\n",
      "  (0, 32125)\t1\n",
      "  (0, 15881)\t1\n",
      "  (0, 38775)\t2\n",
      "  (0, 55266)\t1\n",
      "  (0, 28425)\t1\n",
      "  (0, 42031)\t1\n",
      "  (0, 55261)\t1\n",
      "  (0, 36557)\t1\n",
      "  (0, 40920)\t1\n",
      "  (0, 76406)\t1\n",
      "  (0, 92638)\t1\n",
      "  (0, 61871)\t1\n",
      "  (0, 90948)\t1\n",
      "  (0, 52)\t1\n",
      "  (0, 62726)\t1\n",
      "  (0, 12945)\t2\n",
      "  (0, 30423)\t1\n",
      "  (0, 20460)\t1\n",
      "  (0, 87264)\t1\n",
      "  (0, 60395)\t1\n",
      "  (0, 57674)\t1\n",
      "  (0, 81484)\t1\n",
      "  (0, 18692)\t2\n",
      "  (0, 11334)\t1\n",
      "  (0, 47981)\t1\n",
      "  (0, 34184)\t1\n",
      "  (0, 15971)\t1\n",
      "  (0, 88268)\t1\n",
      "  (0, 35130)\t1\n",
      "  (0, 73173)\t1\n",
      "  (0, 17813)\t1\n",
      "  (0, 68004)\t2\n",
      "  (0, 48995)\t1\n",
      "  (0, 47675)\t1\n",
      "  (0, 60185)\t1\n",
      "  (0, 35444)\t1\n",
      "  (0, 14227)\t1\n",
      "  (0, 61054)\t1\n",
      "  (0, 64385)\t1\n"
     ]
    }
   ],
   "source": [
    "print(review_train_vector[10])"
   ]
  },
  {
   "cell_type": "code",
   "execution_count": 20,
   "metadata": {
    "id": "v6X2M7QCpoTZ"
   },
   "outputs": [],
   "source": [
    "import numpy as np\n",
    "import numpy.ma as ma\n",
    "\n",
    "#usamos la funcion extraida del tutorial para ver los términos extraídos para los mensajes de antes\n",
    "\n",
    "def write_terms (feature_names, data, vector_data, index):\n",
    "    '''\n",
    "    Escribe los términos presentes en un mensaje representado como bolsa de palabras.\n",
    "    \n",
    "    - feature_names: terminos usados para vectorizar\n",
    "    - data: lista de mensajes original (si data==None no se muestra el mensaje original)\n",
    "    - vector_data: matriz (dispersa) de mensaje vectorizados\n",
    "    - index: posición del mensaje a mostrar\n",
    "    '''\n",
    "    # máscara para seleccionar sólo el mensaje en posición index\n",
    "    mask=vector_data[index,:]>0\n",
    "    \n",
    "    # términos que aparecen en ese mensaje vectorizado\n",
    "    terminos = ma.array(feature_names, mask = ~(mask[0].toarray()))\n",
    "    \n",
    "    # mostrar mensaje original\n",
    "    if data is not None:\n",
    "        print('Mensaje', index, ':', data[index])\n",
    "    \n",
    "    # mostrar términos que aparecen en el mensaje vectorizado\n",
    "    print('Mensaje', index, 'vectorizado:', terminos.compressed(),'\\n')"
   ]
  },
  {
   "cell_type": "code",
   "execution_count": 21,
   "metadata": {
    "colab": {
     "base_uri": "https://localhost:8080/"
    },
    "id": "_f67R8TEpobA",
    "outputId": "ef616bf5-15b7-4689-e5e9-9fe6d4efa65a"
   },
   "outputs": [
    {
     "name": "stdout",
     "output_type": "stream",
     "text": [
      "Mensaje 23 : First of all, let's get a few things straight here: a) I AM an anime fan- always has been as a matter of fact (I used to watch Speed Racer all the time in Preschool). b) I DO like several B-Movies because they're hilarious. c) I like the Godzilla movies- a lot.<br /><br />Moving on, when the movie first comes on, it seems like it's going to be your usual B-movie, down to the crappy FX, but all a sudden- BOOM! the anime comes on! This is when the movie goes WWWAAAAAYYYYY downhill.<br /><br />The animation is VERY bad & cheap, even worse than what I remember from SPEED RACER, for crissakes! In fact, it's so cheap, one of the few scenes from the movie I \"vividly\" remember is when a bunch of kids run out of a school... & it's the same kids over & over again! The FX are terrible, too; the dinosaurs look worse than Godzilla. In addition, the transition to live action to animation is unorganized, the dialogue & voices(especially the English dub that I viewed) was horrid & I was begging my dad to take the tape out of the DVD/ VHS player; The only thing that kept me surviving was cracking out jokes & comments like the robots & Joel/Mike on MST3K (you pick the season). Honestly, this is the only way to barely enjoy this movie & survive it at the same time.<br /><br />Heck, I'm planning to show this to another fellow otaku pal of mine on Halloween for a B-Movie night. Because it's stupid, pretty painful to watch & unintentionally hilarious at the same time, I'm giving this movie a 3/10, an improvement from the 0.5/10 I was originally going to give it.<br /><br />(According to my grading scale: 3/10 means Pretty much both boring & bad. As fun as counting to three unless you find a way to make fun of it, then it will become as fun as counting to 15.)\n",
      "Mensaje 23 vectorizado: ['1960s' 'ago' 'ain' 'angles' 'attempt' 'avoid' 'away' 'based' 'br'\n",
      " 'camera' 'correct' 'costumes' 'dialogue' 'didn' 'director' 'don'\n",
      " 'earlier' 'embellish' 'eye' 'fact' 'fashion' 'film' 'fooled' 'hat' 'helm'\n",
      " 'hitchcock' 'identical' 'late' 'like' 'line' 'machine' 'original' 'pie'\n",
      " 'pointless' 'pork' 'private' 'remake' 'restructure' 'sant' 'saying'\n",
      " 'scenes' 'script' 'shot' 'similar' 'sure' 'thankful' 'thinking' 'time'\n",
      " 'used' 'van' 'wears' 'whatsoever' 'years'] \n",
      "\n"
     ]
    }
   ],
   "source": [
    "#Mostramos el mensaje 23 vectorizado y el original\n",
    "write_terms(feature_names_review, review_train, review_train_vector, 23)\n"
   ]
  },
  {
   "cell_type": "code",
   "execution_count": 22,
   "metadata": {
    "colab": {
     "base_uri": "https://localhost:8080/"
    },
    "id": "EuvM3tbxH6vI",
    "outputId": "c97d515f-1e64-4c19-b3fc-6b2fdce00433"
   },
   "outputs": [
    {
     "name": "stdout",
     "output_type": "stream",
     "text": [
      "Mensaje 987 : Destined to be a classic before it was even conceptualized. This game deserves all the recognition it deserves. At a time when first-person shooters like Quake III Arena and Unreal Tournament are garnering all the attention of computer gamers, graphic adventures are a dying breed. With great pun and humour, The Curse of Monkey Island is a game that people of all age groups would enjoy. Life can only improve after playing The Curse of Monkey Island. *prediction* the sequel Escape from Monkey Island is already destined to be a classic too. I guarantee it.\n",
      "Mensaje 987 vectorizado: ['100' 'according' 'action' 'actually' 'awhile' 'bad' 'basically' 'better'\n",
      " 'blood' 'bounty' 'clutches' 'come' 'corporation' 'cyborg' 'darn' 'dialog'\n",
      " 'direct' 'does' 'don' 'escape' 'fall' 'far' 'female' 'fight' 'film'\n",
      " 'flick' 'follows' 'gem' 'good' 'guess' 'guy' 'haven' 'hbo' 'high'\n",
      " 'hunters' 'imdb' 'jack' 'jolie' 'just' 'kind' 'know' 'knowing' 'late'\n",
      " 'likes' 'little' 'looking' 'love' 'make' 'movie' 'movies' 'night' 'notch'\n",
      " 'occasions' 'palance' 'play' 'pretty' 'quality' 'ranked' 'really'\n",
      " 'release' 'remember' 'review' 'ridiculed' 'saw' 'scenes' 'screen'\n",
      " 'seeing' 'seen' 'spat' 'story' 'theatrical' 'think' 'throw' 'times'\n",
      " 'trained' 'trying' 'used' 'users' 'videos' 'violence' 'watch' 'watched'\n",
      " 'worst'] \n",
      "\n"
     ]
    }
   ],
   "source": [
    "#Mostramos el mensaje 987 vectorizado y su mensaje original\n",
    "write_terms(feature_names_review, review_train, review_train_vector, 987)"
   ]
  },
  {
   "cell_type": "markdown",
   "metadata": {
    "id": "G66uH-ajvtJw"
   },
   "source": [
    "Podemos ver que al vectorizar el mensaje nos quedamos con palabras mucho más relevantes, eliminando palabras muy comunes en inglés como pueden ser artículos como or, is o the. Al igual que la mayoria de caracteres sin sentido o palabras numéricas que no aportan mucho al texto. Entonces introduciremos un diccionario de inglés y después usaremos el TfidfTransformer()"
   ]
  },
  {
   "cell_type": "code",
   "execution_count": 25,
   "metadata": {
    "id": "8tQN7st1Tbwm"
   },
   "outputs": [],
   "source": [
    "# Pasamos el fichero a una lista (una línea por item)\n",
    "\n",
    "with open('/content/drive/MyDrive/words.txt') as f:\n",
    "    dictionary = f.read().splitlines()\n",
    "\n",
    "# El diccionario cargado lo pasamos en el parámetro vocabulary    \n",
    "vector = CountVectorizer(vocabulary=dictionary, stop_words='english')   "
   ]
  },
  {
   "cell_type": "code",
   "execution_count": 26,
   "metadata": {
    "colab": {
     "base_uri": "https://localhost:8080/"
    },
    "id": "nPKyVXfRT5kq",
    "outputId": "e2be6d34-1f36-48a7-e89d-e512790f4886"
   },
   "outputs": [
    {
     "name": "stdout",
     "output_type": "stream",
     "text": [
      "466550\n",
      "['2' '1080' '&c' '10-point' '10th' '11-point' '12-point' '16-point'\n",
      " '18-point' '1st' '2,4,5-t' '2,4-d' '20-point' '2D' '2nd' '30-30' '3D'\n",
      " '3-D' '3M' '3rd' '48-point' '4-D' '4GL' '4H' '4th' '5-point' '5-T' '5th'\n",
      " '6-point' '6th' '7-point' '7th' '8-point' '8th' '9-point' '9th' 'a' \"a'\"\n",
      " 'a-' 'A&M' 'A&P' 'A.' 'A.A.A.' 'A.B.' 'A.B.A.' 'A.C.' 'A.D.' 'A.D.C.'\n",
      " 'A.F.' 'A.F.A.M.' 'A.G.' 'A.H.' 'A.I.' 'A.I.A.' 'A.I.D.' 'A.L.' 'A.L.P.'\n",
      " 'A.M.' 'A.M.A.' 'A.M.D.G.' 'A.N.' 'a.p.' 'a.r.' 'A.R.C.S.' 'A.U.'\n",
      " 'A.U.C.' 'A.V.' 'a.w.' 'A.W.O.L.' 'A/C' 'A/F' 'A/O' 'A/P' 'A/V' 'A1'\n",
      " 'A-1' 'A4' 'A5' 'AA' 'AAA' 'AAAA' 'AAAAAA' 'AAAL' 'AAAS' 'Aaberg'\n",
      " 'Aachen' 'AAE' 'AAEE' 'AAF' 'AAG' 'aah' 'aahed' 'aahing' 'aahs' 'AAII'\n",
      " 'aal' 'Aalborg' 'Aalesund' 'aalii' 'aaliis']\n"
     ]
    }
   ],
   "source": [
    "#miramos cuantas palabras tienen el diccionario\n",
    "feature_names_dic = vector.get_feature_names_out()\n",
    "\n",
    "print(len(feature_names_dic))\n",
    "print(feature_names_dic[:100])\n"
   ]
  },
  {
   "cell_type": "code",
   "execution_count": 27,
   "metadata": {
    "colab": {
     "base_uri": "https://localhost:8080/"
    },
    "id": "zUU7Qg2MUhKP",
    "outputId": "c0979365-815e-4cbf-9d8a-489077308be7"
   },
   "outputs": [
    {
     "name": "stderr",
     "output_type": "stream",
     "text": [
      "/usr/local/lib/python3.9/dist-packages/sklearn/feature_extraction/text.py:1380: UserWarning: Upper case characters found in vocabulary while 'lowercase' is True. These entries will not be matched with any documents\n",
      "  warnings.warn(\n"
     ]
    },
    {
     "name": "stdout",
     "output_type": "stream",
     "text": [
      "  (0, 57890)\t2\n",
      "  (0, 64527)\t1\n",
      "  (0, 73885)\t1\n",
      "  (0, 74224)\t1\n",
      "  (0, 82856)\t1\n",
      "  (0, 86899)\t2\n",
      "  (0, 95225)\t1\n",
      "  (0, 131624)\t1\n",
      "  (0, 138922)\t2\n",
      "  (0, 138962)\t1\n",
      "  (0, 139066)\t1\n",
      "  (0, 156006)\t1\n",
      "  (0, 188565)\t1\n",
      "  (0, 193883)\t1\n",
      "  (0, 216063)\t1\n",
      "  (0, 217646)\t1\n",
      "  (0, 217830)\t4\n",
      "  (0, 239303)\t1\n",
      "  (0, 248813)\t1\n",
      "  (0, 248823)\t1\n",
      "  (0, 265860)\t1\n",
      "  (0, 286240)\t1\n",
      "  (0, 289704)\t1\n",
      "  (0, 301284)\t1\n",
      "  (0, 301775)\t1\n",
      "  (0, 314712)\t1\n",
      "  (0, 360642)\t1\n",
      "  (0, 445295)\t1\n",
      "  (0, 449794)\t1\n",
      "  (0, 461995)\t1\n"
     ]
    }
   ],
   "source": [
    "review_train_vector=vector.fit_transform(review_train)\n",
    "\n",
    "print(review_train_vector[10])"
   ]
  },
  {
   "cell_type": "code",
   "execution_count": 28,
   "metadata": {
    "id": "LsTg4OaL2kBD"
   },
   "outputs": [],
   "source": [
    "#transformamos el vector\n",
    "from sklearn.feature_extraction.text import TfidfTransformer\n",
    "tfid = TfidfTransformer();\n",
    "tfid_train = tfid.fit_transform(review_train_vector)"
   ]
  },
  {
   "cell_type": "code",
   "execution_count": 29,
   "metadata": {
    "colab": {
     "base_uri": "https://localhost:8080/"
    },
    "id": "D18rJs0Y8FP-",
    "outputId": "e1fdcf9a-2704-45c6-de9a-92e335c148f4"
   },
   "outputs": [
    {
     "name": "stdout",
     "output_type": "stream",
     "text": [
      "466550\n"
     ]
    }
   ],
   "source": [
    "#Sacamos el número de palabras diferentes que hay en el texto de entrenamiento e imprimimos el número que hay \n",
    "feature_names_tfid = tfid.get_feature_names_out()\n",
    "\n",
    "print(len(feature_names_tfid))"
   ]
  },
  {
   "cell_type": "code",
   "execution_count": 30,
   "metadata": {
    "colab": {
     "base_uri": "https://localhost:8080/"
    },
    "id": "sR4UcYZ38-cb",
    "outputId": "160199a7-1235-4bcc-c607-ed7ead853bd6"
   },
   "outputs": [
    {
     "name": "stdout",
     "output_type": "stream",
     "text": [
      "  (0, 461995)\t0.11703527018233663\n",
      "  (0, 449794)\t0.1311904196962592\n",
      "  (0, 445295)\t0.1303180157955625\n",
      "  (0, 360642)\t0.1350796699217997\n",
      "  (0, 314712)\t0.1803167787463018\n",
      "  (0, 301775)\t0.14343425708331142\n",
      "  (0, 301284)\t0.07885795578558767\n",
      "  (0, 289704)\t0.07250515349749254\n",
      "  (0, 286240)\t0.19622064195671282\n",
      "  (0, 265860)\t0.18779123116100724\n",
      "  (0, 248823)\t0.19405560658552715\n",
      "  (0, 248813)\t0.10067881944969172\n",
      "  (0, 239303)\t0.13774937165587706\n",
      "  (0, 217830)\t0.21295614715827535\n",
      "  (0, 217646)\t0.16033693312212358\n",
      "  (0, 216063)\t0.18865177847148587\n",
      "  (0, 193883)\t0.1424770650724989\n",
      "  (0, 188565)\t0.1292062533579455\n",
      "  (0, 156006)\t0.1174291410037365\n",
      "  (0, 139066)\t0.16911494926578738\n",
      "  (0, 138962)\t0.08129362674612393\n",
      "  (0, 138922)\t0.09567643709003953\n",
      "  (0, 131624)\t0.15575937329754272\n",
      "  (0, 95225)\t0.15580822506305197\n",
      "  (0, 86899)\t0.31151874659508544\n",
      "  (0, 82856)\t0.15008184104590788\n",
      "  (0, 74224)\t0.13597726603057536\n",
      "  (0, 73885)\t0.11393506852874721\n",
      "  (0, 64527)\t0.11828889580569694\n",
      "  (0, 57890)\t0.5598212776820619\n"
     ]
    }
   ],
   "source": [
    "print(tfid_train[10])"
   ]
  },
  {
   "cell_type": "markdown",
   "metadata": {
    "id": "nM9eRnowWKG_"
   },
   "source": []
  },
  {
   "cell_type": "markdown",
   "metadata": {
    "id": "cuN3ASLa9N5h"
   },
   "source": [
    "Como podemos ver ahora encontramos las frecuencias de las palabras "
   ]
  },
  {
   "cell_type": "markdown",
   "metadata": {
    "id": "4zMI3dxe91TA"
   },
   "source": [
    "Ahora utilizaremos arboles de decision y Naive Bayes para evaluar ambas formas utilizando en ambas un diccionario que mejora la cantidad de palabras a flitrar.\n",
    "\n",
    "Comenzaremos con el clasificador de Naive Bayes:Vamos a el Naive Bayes Multinomial."
   ]
  },
  {
   "cell_type": "code",
   "execution_count": 31,
   "metadata": {
    "id": "dPkOeMof_WXC"
   },
   "outputs": [],
   "source": [
    "#vamos a aplicar el conjunto de test el vectorizer y el tfid \n",
    "#Como usamos transform toma solo aquellas palabras del conjunto de entrenamiento\n",
    "test_review_vector = vector.transform(review_test)\n",
    "tfid_test = tfid.transform(test_review_vector)\n"
   ]
  },
  {
   "cell_type": "code",
   "execution_count": 32,
   "metadata": {
    "colab": {
     "base_uri": "https://localhost:8080/"
    },
    "id": "4lXOSYE8B6BV",
    "outputId": "833267dd-84fc-40cc-eb3e-31a297e962cb"
   },
   "outputs": [
    {
     "name": "stdout",
     "output_type": "stream",
     "text": [
      "Multinomial Naive Bayes, porcentaje de aciertos en entrenamiento: 0.883275\n",
      "Multinomial Naive Bayes, porcentaje de aciertos en test: 0.8473\n"
     ]
    }
   ],
   "source": [
    "from sklearn.naive_bayes import MultinomialNB\n",
    "\n",
    "mnb_classifier = MultinomialNB() # definimos el classifier multinomial de naive bayes\n",
    "\n",
    "mnb_classifier.fit(review_train_vector, sentiment_train) # le metemos el vector de CountVectorizer y el sentiment train que son los resultados del entrenamiento\n",
    "\n",
    "mnb_train_predictions = mnb_classifier.predict(review_train_vector) #sacamos las predicciones para las frases de entrenamiento\n",
    "mnb_test_predictions = mnb_classifier.predict(test_review_vector) # sacamos la prediccion para las frases de los test\n",
    "\n",
    "print(\"Multinomial Naive Bayes, porcentaje de aciertos en entrenamiento:\", np.mean(mnb_train_predictions == sentiment_train)) #calculamos el porcentaje de aciertos en entrenamiento\n",
    "print(\"Multinomial Naive Bayes, porcentaje de aciertos en test:\", np.mean(mnb_test_predictions == sentiment_test)) #calculamos el porcentaje de aciertos en test"
   ]
  },
  {
   "cell_type": "markdown",
   "metadata": {
    "id": "GtqFVRzvDMUJ"
   },
   "source": [
    "Realizamos lo mismo que en el apartado anterior pero utilizando esta vez el vector transformado con TfidfTransformer().\n",
    "\n"
   ]
  },
  {
   "cell_type": "code",
   "execution_count": 33,
   "metadata": {
    "colab": {
     "base_uri": "https://localhost:8080/"
    },
    "id": "Eb1mqv0h96JA",
    "outputId": "221447df-1418-41ec-9e70-dc7eb0bbaef4"
   },
   "outputs": [
    {
     "name": "stdout",
     "output_type": "stream",
     "text": [
      "Multinomial Naive Bayes, porcentaje de aciertos en entrenamiento: 0.895575\n",
      "Multinomial Naive Bayes, porcentaje de aciertos en test: 0.858\n"
     ]
    }
   ],
   "source": [
    "from sklearn.naive_bayes import MultinomialNB\n",
    "\n",
    "mnb_classifier = MultinomialNB()\n",
    "\n",
    "mnb_classifier.fit(tfid_train, sentiment_train)\n",
    "\n",
    "mnb_train_predictions_tfid = mnb_classifier.predict(tfid_train)\n",
    "mnb_test_predictions_tfid = mnb_classifier.predict(tfid_test)\n",
    "\n",
    "print(\"Multinomial Naive Bayes, porcentaje de aciertos en entrenamiento:\", np.mean(mnb_train_predictions_tfid == sentiment_train))\n",
    "print(\"Multinomial Naive Bayes, porcentaje de aciertos en test:\", np.mean(mnb_test_predictions_tfid == sentiment_test))"
   ]
  },
  {
   "cell_type": "markdown",
   "metadata": {
    "id": "wJsae9JpCYqm"
   },
   "source": [
    "Vemos que en Naive Bayes después de tranformar el vector de CountVectorizer(), con TfidfTransformer(), mejoramos ligeramente el porcentaje de aciertos tanto en entrenamiento como en test.\n"
   ]
  },
  {
   "cell_type": "markdown",
   "metadata": {
    "id": "snq6CCaFDZA_"
   },
   "source": [
    "Comenzaremos ahora con el clasificador por árbol de decision.\n"
   ]
  },
  {
   "cell_type": "code",
   "execution_count": 34,
   "metadata": {
    "colab": {
     "base_uri": "https://localhost:8080/"
    },
    "id": "13SmnyN2ELgc",
    "outputId": "51d966e6-0a5b-4cb4-a05c-6eed07d225dc"
   },
   "outputs": [
    {
     "name": "stdout",
     "output_type": "stream",
     "text": [
      "Árbol, porcentaje de aciertos en entrenamiento: 1.0\n",
      "Árbol, porcentaje de aciertos en test: 0.7311\n"
     ]
    }
   ],
   "source": [
    "from sklearn import tree\n",
    "import numpy as np\n",
    "\n",
    "# Creamos el clasificador  de árboles de decision que se creará por defecto\n",
    "tree_classifier = tree.DecisionTreeClassifier(random_state=RANDOM_STATE)\n",
    "tree_classifier.fit(review_train_vector, sentiment_train) #entrenamos primero con el vector CountVectorizer\n",
    "\n",
    "tree_train_predictions = tree_classifier.predict(review_train_vector) #añadimos el vector de entrenamiento de CountVectorizer\n",
    "tree_test_predictions = tree_classifier.predict(test_review_vector) #añadimos el vector de test de CountVectorizer\n",
    "\n",
    "print(\"Árbol, porcentaje de aciertos en entrenamiento:\", np.mean(tree_train_predictions == sentiment_train)) #Calculamos el porcentaje de aciertos en entrenamiento\n",
    "print(\"Árbol, porcentaje de aciertos en test:\", np.mean(tree_test_predictions == sentiment_test)) #Calculamso el porcentaje de aciertos en test"
   ]
  },
  {
   "cell_type": "code",
   "execution_count": 35,
   "metadata": {
    "colab": {
     "base_uri": "https://localhost:8080/"
    },
    "id": "WaaxwjRlFEx7",
    "outputId": "b958b3f3-61ab-4acf-9541-357509cfffc7"
   },
   "outputs": [
    {
     "name": "stdout",
     "output_type": "stream",
     "text": [
      "Árbol, porcentaje de aciertos en entrenamiento: 1.0\n",
      "Árbol, porcentaje de aciertos en test: 0.7287\n"
     ]
    }
   ],
   "source": [
    "\n",
    "#Realizamos lo mismo con el vector transformado por TfidfTransformer.\n",
    "tree_classifier = tree.DecisionTreeClassifier()\n",
    "tree_classifier.fit(tfid_train, sentiment_train)\n",
    "\n",
    "tree_train_predictions_tfid = tree_classifier.predict(tfid_train)\n",
    "tree_test_predictions_tfid = tree_classifier.predict(tfid_test)\n",
    "\n",
    "print(\"Árbol, porcentaje de aciertos en entrenamiento:\", np.mean(tree_train_predictions_tfid == sentiment_train))\n",
    "print(\"Árbol, porcentaje de aciertos en test:\", np.mean(tree_test_predictions_tfid == sentiment_test))"
   ]
  },
  {
   "cell_type": "markdown",
   "metadata": {
    "id": "XmM1ftJe3yvK"
   },
   "source": [
    "## 3) Análisis comparativo final\n",
    "\n",
    "Se han entrenado varios clasificadores usando vectorizaciones diferentes de los datos. Compara las diferencias entre representaciones para un mismo algoritmo y entre algoritmos. Explica a qué crees que se deben las diferencias.\n",
    "\n",
    "Analiza con detalle el mejor clasificador de cada tipo. Indica las palabras más relevantes. Busca un ejemplo mal clasificado de cada clase, justifica el error ¿se te ocurre alguna forma de solucionarlo?\n"
   ]
  },
  {
   "cell_type": "markdown",
   "metadata": {
    "id": "T1M_qBXTqWr4"
   },
   "source": [
    "Comenzaremos primero con el Naive Bayes. Miraremos primero la precison, el recall y f1-score en las 2 clases que tenemos para evaluar.\n"
   ]
  },
  {
   "cell_type": "code",
   "execution_count": 36,
   "metadata": {
    "colab": {
     "base_uri": "https://localhost:8080/"
    },
    "id": "qU0UFbSm9NQm",
    "outputId": "d5a67386-65cd-4ef3-c3ef-235f838f4af9"
   },
   "outputs": [
    {
     "name": "stdout",
     "output_type": "stream",
     "text": [
      "              precision    recall  f1-score   support\n",
      "\n",
      "    negative       0.83      0.87      0.85      5000\n",
      "    positive       0.86      0.83      0.84      5000\n",
      "\n",
      "    accuracy                           0.85     10000\n",
      "   macro avg       0.85      0.85      0.85     10000\n",
      "weighted avg       0.85      0.85      0.85     10000\n",
      "\n"
     ]
    }
   ],
   "source": [
    "from sklearn.metrics import classification_report, confusion_matrix\n",
    "#comenzamos eligiendo el Naive Bayes\n",
    "predictions = mnb_test_predictions\n",
    "\n",
    "print(classification_report(sentiment_test, predictions))"
   ]
  },
  {
   "cell_type": "code",
   "execution_count": 37,
   "metadata": {
    "colab": {
     "base_uri": "https://localhost:8080/"
    },
    "id": "xayUMfd_yoJX",
    "outputId": "cd0f8e93-2c88-4f74-c898-25f87ea719ae"
   },
   "outputs": [
    {
     "name": "stdout",
     "output_type": "stream",
     "text": [
      "              precision    recall  f1-score   support\n",
      "\n",
      "    negative       0.85      0.87      0.86      5000\n",
      "    positive       0.87      0.85      0.86      5000\n",
      "\n",
      "    accuracy                           0.86     10000\n",
      "   macro avg       0.86      0.86      0.86     10000\n",
      "weighted avg       0.86      0.86      0.86     10000\n",
      "\n"
     ]
    }
   ],
   "source": [
    "from sklearn.metrics import classification_report, confusion_matrix\n",
    "#comenzamos eligiendo el Naive Bayes\n",
    "predictions = mnb_test_predictions_tfid\n",
    "\n",
    "print(classification_report(sentiment_test, predictions))"
   ]
  },
  {
   "cell_type": "markdown",
   "metadata": {
    "id": "Uv3kdmD-ytgL"
   },
   "source": [
    "Como podemos ver en este caso vemos que ambas clases tienen una precision y un recall muy parecidos a la hora de hacer los test. Al hacer el tfidfTransformer(), mejoramos ligeramente la precision de la clase negativa y el recall de la clase positiva.Esto se debe que al utilizar frecuencias relativas, podemos identicar palabras que se repiten y no son relevantes como los articulos que puedan dar lugar a confusion dentro de la eleccion de probabilidades."
   ]
  },
  {
   "cell_type": "code",
   "execution_count": 38,
   "metadata": {
    "colab": {
     "base_uri": "https://localhost:8080/"
    },
    "id": "wwPtYrZUznw1",
    "outputId": "6290a9f0-ca98-4ba0-9504-6e259638c4fa"
   },
   "outputs": [
    {
     "name": "stdout",
     "output_type": "stream",
     "text": [
      "              precision    recall  f1-score   support\n",
      "\n",
      "    negative       0.73      0.73      0.73      5000\n",
      "    positive       0.73      0.74      0.73      5000\n",
      "\n",
      "    accuracy                           0.73     10000\n",
      "   macro avg       0.73      0.73      0.73     10000\n",
      "weighted avg       0.73      0.73      0.73     10000\n",
      "\n"
     ]
    }
   ],
   "source": [
    "from sklearn.metrics import classification_report, confusion_matrix\n",
    "\n",
    "predictions = tree_test_predictions\n",
    "\n",
    "print(classification_report(sentiment_test, predictions ))"
   ]
  },
  {
   "cell_type": "code",
   "execution_count": 65,
   "metadata": {
    "colab": {
     "base_uri": "https://localhost:8080/"
    },
    "id": "7gvSOTJezoyS",
    "outputId": "ef020bd8-f491-48c0-9acb-d7642655a5d0"
   },
   "outputs": [
    {
     "name": "stdout",
     "output_type": "stream",
     "text": [
      "              precision    recall  f1-score   support\n",
      "\n",
      "    negative       0.73      0.73      0.73      5000\n",
      "    positive       0.73      0.72      0.73      5000\n",
      "\n",
      "    accuracy                           0.73     10000\n",
      "   macro avg       0.73      0.73      0.73     10000\n",
      "weighted avg       0.73      0.73      0.73     10000\n",
      "\n"
     ]
    }
   ],
   "source": [
    "from sklearn.metrics import classification_report, confusion_matrix\n",
    "\n",
    "predictions =tree_test_predictions_tfid\n",
    "\n",
    "print(classification_report(sentiment_test, predictions ))"
   ]
  },
  {
   "cell_type": "markdown",
   "metadata": {
    "id": "HsZvnFjf1Tjn"
   },
   "source": [
    "Observando los resultados vemos que en los árboles de decision, tienen una precisión y un recall bastante peores. Vemos que en este caso, al transformar con TfidfTransformer(), empeoran ligeramente nuestros resultados, eso se debe a que las características que está tomando el árbol de decisión para hacer el branching,depende también de esas palabras frecuentes que disminuyen su importancia debido a la frecuencia relativa."
   ]
  },
  {
   "cell_type": "markdown",
   "metadata": {
    "id": "K3Lec7Ty2T8n"
   },
   "source": [
    "Comparando ambos modelos podemos observar, que debido a la probabilidad que utiliza Naive Bayes, a la hora de predecir los resultados de la propia base de datos de entrenamiento tiene errores. Al contrario, que los árboles de decision que al generar todas las hojas y al haber sido entrenado con ellos es capaz de acertar un 100% de las veces.\n",
    "Sin embargo, cuando llegamos al dataset relativo al test, el Naive Bayes, sigue haciendose a partir de las probabilidades construidas con el dataset, lo que le hace mucho más dificil equivocarse porque es más raro que fallen las probabilidades de encontrarse unas palabras detrás de otras, en las frases del test.\n",
    "Al contrario, los árboles de decisión, construyen los nodos a partir de los datos del entrenamiento y al generar todo el árbol podemos ver que hay overfitting debido a que no es capaz de evaluar los test correctamente."
   ]
  },
  {
   "cell_type": "code",
   "execution_count": 100,
   "metadata": {
    "colab": {
     "base_uri": "https://localhost:8080/",
     "height": 509
    },
    "id": "hXvbpGL04HgD",
    "outputId": "e604b2eb-4468-47ff-c81a-92849e9c02ab"
   },
   "outputs": [
    {
     "data": {
      "text/plain": [
       "(array([0.5, 1.5]), [Text(0.5, 0, 'negative'), Text(1.5, 0, 'positive')])"
      ]
     },
     "execution_count": 100,
     "metadata": {},
     "output_type": "execute_result"
    },
    {
     "data": {
      "image/png": "[encoded data removed]",
      "text/plain": [
       "<Figure size 1000x500 with 2 Axes>"
      ]
     },
     "metadata": {},
     "output_type": "display_data"
    }
   ],
   "source": [
    "import pandas as pd\n",
    "import seaborn as sn\n",
    "import matplotlib.pyplot as plt\n",
    "\n",
    "conf_matrix = confusion_matrix(sentiment_test, mnb_test_predictions_tfid)\n",
    "conf_matrix_df = pd.DataFrame(conf_matrix,index =['negative','positive'],columns = ['negative','positive'])\n",
    "\n",
    "plt.figure(figsize=(10, 5))\n",
    "sn.heatmap(conf_matrix_df, annot=True, vmin=0, vmax=conf_matrix.max(), fmt='d', cmap=\"YlGnBu\")\n",
    "plt.yticks(rotation=0)\n",
    "plt.xticks(rotation=90)"
   ]
  },
  {
   "cell_type": "markdown",
   "metadata": {
    "id": "5_l-pBdF4c2x"
   },
   "source": [
    "Añadimos la matriz de confusión del Naive Bayes que mejor funciona, que es aque con el tfidfTransformer(). En ello podemos ver que tenemos 735 falsos negativos y 601 falsos positivos."
   ]
  },
  {
   "cell_type": "code",
   "execution_count": 67,
   "metadata": {
    "colab": {
     "base_uri": "https://localhost:8080/",
     "height": 509
    },
    "id": "jInzlrTW5Ocn",
    "outputId": "6237725d-aade-428b-ee19-21a7fe6f9ca8"
   },
   "outputs": [
    {
     "data": {
      "text/plain": [
       "(array([0.5, 1.5]), [Text(0.5, 0, 'negative'), Text(1.5, 0, 'positive')])"
      ]
     },
     "execution_count": 67,
     "metadata": {},
     "output_type": "execute_result"
    },
    {
     "data": {
      "image/png": "[encoded data removed]",
      "text/plain": [
       "<Figure size 1000x500 with 2 Axes>"
      ]
     },
     "metadata": {},
     "output_type": "display_data"
    }
   ],
   "source": [
    "import pandas as pd\n",
    "import seaborn as sn\n",
    "import matplotlib.pyplot as plt\n",
    "\n",
    "conf_matrix = confusion_matrix(sentiment_test, tree_test_predictions)\n",
    "conf_matrix_df = pd.DataFrame(conf_matrix,index = ['negative','positive'],columns = ['negative','positive'])\n",
    "\n",
    "plt.figure(figsize=(10, 5))\n",
    "sn.heatmap(conf_matrix_df, annot=True, vmin=0, vmax=conf_matrix.max(), fmt='d', cmap=\"YlGnBu\")\n",
    "plt.yticks(rotation=0)\n",
    "plt.xticks(rotation=90)"
   ]
  },
  {
   "cell_type": "markdown",
   "metadata": {
    "id": "KYbUc9Ac5d-P"
   },
   "source": [
    "Realizamos lo mismo con el mejor árbol de decision que es en este caso el que está sin transformar y vemos que hay muchos más falsos negativos y falsos positivos."
   ]
  },
  {
   "cell_type": "markdown",
   "metadata": {
    "id": "-rhgcWXB5s2K"
   },
   "source": [
    "A continuación veremos las palabras más relevantes de cada uno de los clasificadores. Primero con Naive Bayes y posteriormente con los árboles de decisión, utilizando las funciones propuestas por el tutorial."
   ]
  },
  {
   "cell_type": "code",
   "execution_count": 68,
   "metadata": {
    "id": "KgnqHerR5srz"
   },
   "outputs": [],
   "source": [
    "def print_top20_features_per_class_in_NB(vectorizer, clf, class_labels):\n",
    "    \"\"\"Prints features with the highest coefficient values, per class\"\"\"\n",
    "    feature_names = vectorizer.get_feature_names_out()\n",
    "    print(\"Top 20 features per class\\n\")\n",
    "    for i, class_label in enumerate(class_labels):\n",
    "        top20 = np.argsort(clf.feature_log_prob_[i])[-20:]\n",
    "        reversed_top = top20[::-1]\n",
    "        \n",
    "        print(\"%s: %s\" % (class_label,\n",
    "              \" / \".join(feature_names[j] for j in reversed_top)),'\\n')\n",
    "        \n",
    "        #Descomentar para ver el índice de los términos en el diccionario\n",
    "        #print(\"%s \" % (\" / \".join(str(j) for j in reversed_top)),'\\n')"
   ]
  },
  {
   "cell_type": "code",
   "execution_count": 69,
   "metadata": {
    "colab": {
     "base_uri": "https://localhost:8080/"
    },
    "id": "qHcw6AB56H7z",
    "outputId": "1e796213-da07-4fbc-9686-79f06e7facb3"
   },
   "outputs": [
    {
     "name": "stdout",
     "output_type": "stream",
     "text": [
      "Top 20 features per class\n",
      "\n",
      "negative: movie / film / bad / like / really / movies / acting / plot / make / people / watch / worst / better / think / characters / way / thing / character / know / watching \n",
      "\n",
      "positive: movie / film / like / really / people / movies / watch / think / films / way / characters / character / years / know / make / funny / does / real / end / series \n",
      "\n"
     ]
    }
   ],
   "source": [
    "print_top20_features_per_class_in_NB(vector,mnb_classifier,['negative','positive'])"
   ]
  },
  {
   "cell_type": "markdown",
   "metadata": {
    "id": "LxWRy1uoAL6F"
   },
   "source": [
    "Podemos ver las palabras más utilizadas por clase tanto en negativo como en positivo, como podemos ver la palabra good también aparece en negativo."
   ]
  },
  {
   "cell_type": "code",
   "execution_count": 70,
   "metadata": {
    "id": "7lx35Kpm_ai5"
   },
   "outputs": [],
   "source": [
    "def print_top20_features_in_trees(vectorizer, clf):\n",
    "    \"\"\"Prints features with the highest coefficient values\"\"\"\n",
    "    feature_names = vectorizer.get_feature_names_out()\n",
    "    \n",
    "    top20 = np.argsort(clf.feature_importances_)[-20:]\n",
    "    reversed_top = top20[::-1]\n",
    "    print(\"Top 20 features in the tree\\n\")\n",
    "    print(\"%s\" % ( \" / \".join(feature_names[j] for j in reversed_top)))"
   ]
  },
  {
   "cell_type": "code",
   "execution_count": 71,
   "metadata": {
    "colab": {
     "base_uri": "https://localhost:8080/"
    },
    "id": "rFmvVm-7_ljW",
    "outputId": "e942b475-03d2-4d58-de76-ee37987efc25"
   },
   "outputs": [
    {
     "name": "stdout",
     "output_type": "stream",
     "text": [
      "Top 20 features in the tree\n",
      "\n",
      "bad / worst / waste / awful / excellent / wonderful / stupid / poor / terrible / minutes / supposed / poorly / movie / loved / plot / like / film / dull / amazing / ridiculous\n"
     ]
    }
   ],
   "source": [
    "print_top20_features_in_trees(vector,tree_classifier)"
   ]
  },
  {
   "cell_type": "markdown",
   "metadata": {
    "id": "Hv9qXwbE_ynf"
   },
   "source": [
    "Podemos ver cual son las palabras que mas se seleccionan para hacer la distinción entre nodos. Podemos ver que las palabras mas útlizadas son adjetivos calificativos que implican bueno o malo."
   ]
  },
  {
   "cell_type": "markdown",
   "metadata": {
    "id": "SlclmBjVAYUh"
   },
   "source": [
    "Como podemos ver, el árbol de decisión probablemente puede llegar a opinar que por usar adjetivos como poor la valoración sea negativa, pero puede ser que haya aspectos de la película que no te gusten y la valoración sea positiva."
   ]
  },
  {
   "cell_type": "code",
   "execution_count": 97,
   "metadata": {
    "colab": {
     "base_uri": "https://localhost:8080/"
    },
    "id": "TNPmqdD8AuO4",
    "outputId": "007cda31-069f-43da-cb07-cd751dc1bf64"
   },
   "outputs": [
    {
     "name": "stdout",
     "output_type": "stream",
     "text": [
      "5\n",
      "Resultado que debería dar:  negative\n",
      "Resultado que da nuestro clasificador:  positive\n",
      "Imprimimos el mensaje:\n",
      " ...but I would be lying. A relative was a crew member, and we got to go watch the production of this movie for a couple of days (and I was an extra). I get to die and have a second of screen time, not that I plan on moving to Hollywood anytime soon. I just thought it was awesome to see how movies are made and be a part of it. Plus, I got a copy of the movie once it was finally released. They didn't have a studio backing when making this film so it truly was independent. Why the writing and acting is so awful is beyond me, but the main character \"Cherry\" is the director's sister so that could be part of it. But the cinematography was good. :)\n"
     ]
    }
   ],
   "source": [
    "x = 8 #condicion para salir del bucle\n",
    "i = 0 #iterador\n",
    "while i < len(sentiment_test) and x != 9:\n",
    "  if sentiment_test.iloc[i] != mnb_test_predictions_tfid[i] and sentiment_test.iloc[i] == 'negative': # miramos que sea diferente y la valoracion real negativa\n",
    "    x = 9\n",
    "  else:\n",
    "    i = i +1 \n",
    "print(i)\n",
    "print(\"Resultado que debería dar: \",sentiment_test.iloc[i]) #imprimimos la valoracion real\n",
    "print(\"Resultado que da nuestro clasificador: \",mnb_test_predictions_tfid[i]) #imprimimos el \n",
    "print(\"Imprimimos el mensaje:\\n\",review_test.iloc[i])"
   ]
  },
  {
   "cell_type": "markdown",
   "metadata": {
    "id": "3jtEnCbigX-0"
   },
   "source": [
    "Aquí el resultado debería ser negativo, sin embargo, nuestro clasificador es positivo debido a frases \"go to watch this movie for days\" o palabras como awesome que lo confunden"
   ]
  },
  {
   "cell_type": "code",
   "execution_count": 96,
   "metadata": {
    "colab": {
     "base_uri": "https://localhost:8080/"
    },
    "id": "uuzTyFJhfv6V",
    "outputId": "584ec400-53e1-4a62-9718-aefce95d1d9a"
   },
   "outputs": [
    {
     "name": "stdout",
     "output_type": "stream",
     "text": [
      "38\n",
      "Resultado que debería dar:  positive\n",
      "Resultado que da nuestro clasificador:  negative\n",
      "Imprimimos el mensaje:\n",
      " After seeing Big Fat Liar, I think Jason learned a lot more. When he told the truth about Marty stealing his story, it was like the boy who cried wolf. People heard him, but they didn't believe him. Nobody did anything to help him. Besides, not only Marty's movies stink, so does his advice. The truth is not overrated. I am so glad he got exposed for what he really is. Everyone found out that he stole from that boy, including his parents. Not only he stole from that boy and lied about it, he gave them someone else's work and tried to call it his own, which is plagiarism. Doesn't he know that it is illegal to plagiarize someone's idea? Another reason why he got fired. He is not trustworthy. He's a liar, a cheat, a thief, a crook, and a plagiarist. You got that Marty? You're a plagiarist. Plus, you got everything that you deserved.\n"
     ]
    }
   ],
   "source": [
    "x = 8\n",
    "i = 0\n",
    "while i < len(sentiment_test) and x != 9:\n",
    "  if sentiment_test.iloc[i] != mnb_test_predictions_tfid[i] and sentiment_test.iloc[i] == 'positive':\n",
    "    x = 9\n",
    "  else:\n",
    "    i = i +1 \n",
    "print(i)\n",
    "print(\"Resultado que debería dar: \",sentiment_test.iloc[i])\n",
    "print(\"Resultado que da nuestro clasificador: \",mnb_test_predictions_tfid[i])\n",
    "print(\"Imprimimos el mensaje:\\n\",review_test.iloc[i])"
   ]
  },
  {
   "cell_type": "markdown",
   "metadata": {
    "id": "-XAjY3nfgrsF"
   },
   "source": [
    "En este caso debería ser una valoración positiva sin embargo es una valoración negativa de nuestro clasificador.\n",
    "Eso se debe a frases como plagariaze, o \"He is not trust worth it\"\n"
   ]
  },
  {
   "cell_type": "code",
   "execution_count": 98,
   "metadata": {
    "colab": {
     "base_uri": "https://localhost:8080/"
    },
    "id": "54-qX5FeXhYc",
    "outputId": "8a469b83-14eb-4171-9695-2f73a1712501"
   },
   "outputs": [
    {
     "name": "stdout",
     "output_type": "stream",
     "text": [
      "20\n",
      "Resultado que debería dar:  positive\n",
      "Resultado que da nuestro clasificador:  negative\n",
      "Imprimimos el mensaje:\n",
      " I remember Casper comic books, but don't remember any cartoons. Maybe they weren't memorable; I don't know but at my advanced age, here I am watching this very early Casper animated short yesterday. Afterward, I was shocked to read the user-comments here. Did people miss the ending?<br /><br />I have to learn all over again that Casper isn't like the other ghosts, who like to go out each night and scare the c--p out of everyone. \"He sees no future in that,\" according to the narrator here. Instead, one night he goes out to the rural section of town, inadvertently scares some animals and can't find any friends. It brings him to tears, until a little fox hears him bawling and befriends him. The two become buddies but soon, the fox is running for his life with a fox hunt in progress.<br /><br />Other reviews have all mentioned what happens, so I'll touch on that, too. The fox is killed by hunting dogs (not shown) and Casper is in tears for losing \"the only friend I ever had.\" But, nobody mentions the happy ending to this story. \"Ferdie\" the fox becomes a spirit-figure like Casper, jumps on his lap, licks his face and the narrator comments \"they lived happily ever after.\" Both characters look overjoyed.<br /><br />What is so sad about that? This is a nice story with a nice, happy ending.\n"
     ]
    }
   ],
   "source": [
    "x = 8\n",
    "i = 0\n",
    "while i < len(sentiment_test) and x != 9:\n",
    "  if sentiment_test.iloc[i] != tree_test_predictions[i] and sentiment_test.iloc[i] == 'positive':\n",
    "    x = 9\n",
    "  else:\n",
    "    i = i +1 \n",
    "print(i)\n",
    "print(\"Resultado que debería dar: \",sentiment_test.iloc[i])\n",
    "print(\"Resultado que da nuestro clasificador: \",tree_test_predictions[i])\n",
    "print(\"Imprimimos el mensaje:\\n\",review_test.iloc[i])"
   ]
  },
  {
   "cell_type": "markdown",
   "metadata": {
    "id": "3c7FJ6YjhVfw"
   },
   "source": [
    "Aquí debería dar positivo y da negativo debido a palabras como \"werent memorable\",\"shocked\",\"scare\"."
   ]
  },
  {
   "cell_type": "code",
   "execution_count": 99,
   "metadata": {
    "colab": {
     "base_uri": "https://localhost:8080/"
    },
    "id": "WRfysgdOhWEm",
    "outputId": "01ecb684-afd9-455f-eaf5-95d0e857980a"
   },
   "outputs": [
    {
     "name": "stdout",
     "output_type": "stream",
     "text": [
      "8\n",
      "Resultado que debería dar:  negative\n",
      "Resultado que da nuestro clasificador:  positive\n",
      "Imprimimos el mensaje:\n",
      " As you can guess by my rating and my title of this review that I don't like Johnny Test. Now I think I know what people are going to say, \" How do you know how bad it is? Have you ever watched it?\", I did watch this show a couple times because I am studying film and animation and this just doesn't hold a candle to my standards.<br /><br />I want to first talk about the animation because it is one of the most confusing things I have ever seen. Like the first two seasons or only first season had hand drawn animation. I thought it was a nice show to look at when it was hand drawn but then it switched to flash animation and the quality went down by a huge amount.<br /><br />So that is one strike in my eyes but lets look at the story of the show. It tries way too hard to be like Dexter's lab but there are differences because instead of one red headed scientist there is two and they are both female. There is a talking dog(why?), and the parents attitudes are switched somewhat. I have others but I don't think I can write them here ( I don't mean cursing but I mean I don't know if there is a limit for words.). Everything else though is spot on, even a DeeDee character Johnny himself. It just tries so hard to be Dexter but it just seems to me like a heartless knockoff.<br /><br />Lastly I want to talk about the jokes. Remember in Dexters lab some of the jokes involved yelling? Yes, yelling can be good for a joke or two but Dexter's lab also had sly remarks that made me have to go back and check to get the joke. Johnny Test just forgets all that and just yells 50% of the time and stops the music whenever a stupid joke or one liner appears. That isn't comedy, thats stupid comedy (I know what some people are thinking. Isn't three stooges stupid comedy? Watch that and Johnny Test back to back and you laugh more at the first option.). Sometimes the jokes are based on bizarre situations which, like Chowder, makes me mad. I have a rule for cartoons and comedies all together: To much bizarre doesn't equal comedy, it makes you just think \"what am I watching?\".<br /><br />So it strikes out on all accounts. Don't watch this show if you have any respect for comedy in anyway, shape, or form.\n"
     ]
    }
   ],
   "source": [
    "x = 8\n",
    "i = 0\n",
    "while i < len(sentiment_test) and x != 9:\n",
    "  if sentiment_test.iloc[i] != tree_test_predictions[i] and sentiment_test.iloc[i] == 'negative':\n",
    "    x = 9\n",
    "  else:\n",
    "    i = i +1 \n",
    "print(i)\n",
    "print(\"Resultado que debería dar: \",sentiment_test.iloc[i])\n",
    "print(\"Resultado que da nuestro clasificador: \",tree_test_predictions[i])\n",
    "print(\"Imprimimos el mensaje:\\n\",review_test.iloc[i])"
   ]
  },
  {
   "cell_type": "markdown",
   "metadata": {
    "id": "Spcd4rxEi_1s"
   },
   "source": [
    "El resultado debería ser negativo y da ser positivo. Debido a palabras como: \"nice\" or \"huge amount\""
   ]
  }
 ],
 "metadata": {
  "colab": {
   "provenance": []
  },
  "kernelspec": {
   "display_name": "Python 3 (ipykernel)",
   "language": "python",
   "name": "python3"
  },
  "language_info": {
   "codemirror_mode": {
    "name": "ipython",
    "version": 3
   },
   "file_extension": ".py",
   "mimetype": "text/x-python",
   "name": "python",
   "nbconvert_exporter": "python",
   "pygments_lexer": "ipython3",
   "version": "3.8.12"
  }
 },
 "nbformat": 4,
 "nbformat_minor": 1
}
